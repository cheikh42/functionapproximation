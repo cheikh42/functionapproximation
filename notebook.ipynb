{
 "cells": [
  {
   "cell_type": "code",
   "execution_count": null,
   "metadata": {},
   "outputs": [],
   "source": []
  }
 ],
 "metadata": {
  "interpreter": {
   "hash": "ce11b6c1d88ff434cb68bdfbcb5fbcf9e789f665fdac246551c5012065e56663"
  },
  "kernelspec": {
   "display_name": "Python 3.9.9 64-bit ('zama-challenge-vMwrHpqs-py3.9': poetry)",
   "language": "python",
   "name": "python3"
  },
  "language_info": {
   "name": "python",
   "version": "3.9.9"
  },
  "orig_nbformat": 4
 },
 "nbformat": 4,
 "nbformat_minor": 2
}
