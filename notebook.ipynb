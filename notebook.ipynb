{
 "cells": [
  {
   "cell_type": "code",
   "execution_count": null,
   "metadata": {},
   "outputs": [],
   "source": []
  },
  {
   "cell_type": "markdown",
   "metadata": {},
   "source": [
    "Input data = realisations of functions"
   ]
  },
  {
   "cell_type": "markdown",
   "metadata": {},
   "source": [
    "cross validation ... Overffiting "
   ]
  },
  {
   "cell_type": "markdown",
   "metadata": {},
   "source": [
    "BAckpropagation, Adam, ...\n"
   ]
  },
  {
   "cell_type": "markdown",
   "metadata": {},
   "source": [
    "mertics sklearn "
   ]
  },
  {
   "cell_type": "code",
   "execution_count": null,
   "metadata": {},
   "outputs": [],
   "source": [
    "def f5(x,y):\n",
    "    return np.sin(x)+np.sin(y)\n",
    "x5=np.linspace(-10, 10, 10000)\n",
    "y5=np.linspace(-10, 10, 10000)\n",
    "X5, Y5 = np.meshgrid(x5, y5)\n",
    "Z5 = f5(X5, Y5)\n",
    "fig = plt.figure(figsize =[10,7])\n",
    "ax = plt.axes(projection='3d')\n",
    "ax.contour3D(X5, Y5, Z5, 50, cmap='viridis')\n",
    "ax.set_xlabel('x')\n",
    "ax.set_ylabel('y')\n",
    "ax.set_zlabel('f1(x,y)')\n",
    "ax.set_title('Visualizing the function 5', color='g')\n",
    "\n",
    "plt.show()"
   ]
  },
  {
   "cell_type": "code",
   "execution_count": 12,
   "metadata": {},
   "outputs": [],
   "source": [
    "def self_layer_printer(a,b, start, stop ):\n",
    "    for i in range(start,stop):\n",
    "        print(f\"self.layer{i} = nn.Linear({a},{b})\")"
   ]
  },
  {
   "cell_type": "code",
   "execution_count": null,
   "metadata": {},
   "outputs": [],
   "source": []
  },
  {
   "cell_type": "code",
   "execution_count": 13,
   "metadata": {},
   "outputs": [
    {
     "name": "stdout",
     "output_type": "stream",
     "text": [
      "self.layer2 = nn.Linear(10,10)\n",
      "self.layer3 = nn.Linear(10,10)\n",
      "self.layer4 = nn.Linear(10,10)\n",
      "self.layer5 = nn.Linear(10,10)\n",
      "self.layer6 = nn.Linear(10,10)\n",
      "self.layer7 = nn.Linear(10,10)\n",
      "self.layer8 = nn.Linear(10,10)\n",
      "self.layer9 = nn.Linear(10,10)\n",
      "self.layer10 = nn.Linear(10,10)\n",
      "self.layer11 = nn.Linear(10,10)\n",
      "self.layer12 = nn.Linear(10,10)\n",
      "self.layer13 = nn.Linear(10,10)\n",
      "self.layer14 = nn.Linear(10,10)\n",
      "self.layer15 = nn.Linear(10,10)\n",
      "self.layer16 = nn.Linear(10,10)\n",
      "self.layer17 = nn.Linear(10,10)\n",
      "self.layer18 = nn.Linear(10,10)\n",
      "self.layer19 = nn.Linear(10,10)\n",
      "self.layer20 = nn.Linear(10,10)\n",
      "self.layer21 = nn.Linear(10,10)\n",
      "self.layer22 = nn.Linear(10,10)\n",
      "self.layer23 = nn.Linear(10,10)\n",
      "self.layer24 = nn.Linear(10,10)\n",
      "self.layer25 = nn.Linear(10,10)\n",
      "self.layer26 = nn.Linear(10,10)\n",
      "self.layer27 = nn.Linear(10,10)\n",
      "self.layer28 = nn.Linear(10,10)\n",
      "self.layer29 = nn.Linear(10,10)\n",
      "self.layer30 = nn.Linear(10,10)\n",
      "self.layer31 = nn.Linear(10,10)\n",
      "self.layer32 = nn.Linear(10,10)\n",
      "self.layer33 = nn.Linear(10,10)\n",
      "self.layer34 = nn.Linear(10,10)\n",
      "self.layer35 = nn.Linear(10,10)\n",
      "self.layer36 = nn.Linear(10,10)\n",
      "self.layer37 = nn.Linear(10,10)\n",
      "self.layer38 = nn.Linear(10,10)\n",
      "self.layer39 = nn.Linear(10,10)\n",
      "self.layer40 = nn.Linear(10,10)\n",
      "self.layer41 = nn.Linear(10,10)\n",
      "self.layer42 = nn.Linear(10,10)\n",
      "self.layer43 = nn.Linear(10,10)\n",
      "self.layer44 = nn.Linear(10,10)\n",
      "self.layer45 = nn.Linear(10,10)\n",
      "self.layer46 = nn.Linear(10,10)\n",
      "self.layer47 = nn.Linear(10,10)\n",
      "self.layer48 = nn.Linear(10,10)\n",
      "self.layer49 = nn.Linear(10,10)\n",
      "self.layer50 = nn.Linear(10,10)\n"
     ]
    }
   ],
   "source": [
    "self_layer_printer(10, 10, 2, 51 )"
   ]
  },
  {
   "cell_type": "code",
   "execution_count": 2,
   "metadata": {},
   "outputs": [],
   "source": [
    "def forward_printer(start, stop):\n",
    "    for i in range(start,stop):\n",
    "        print(f\"x = F.relu(self.layer{i}(x))\")"
   ]
  },
  {
   "cell_type": "code",
   "execution_count": 4,
   "metadata": {},
   "outputs": [
    {
     "name": "stdout",
     "output_type": "stream",
     "text": [
      "x = F.relu(self.layer1(x))\n",
      "x = F.relu(self.layer2(x))\n",
      "x = F.relu(self.layer3(x))\n",
      "x = F.relu(self.layer4(x))\n",
      "x = F.relu(self.layer5(x))\n",
      "x = F.relu(self.layer6(x))\n",
      "x = F.relu(self.layer7(x))\n",
      "x = F.relu(self.layer8(x))\n",
      "x = F.relu(self.layer9(x))\n",
      "x = F.relu(self.layer10(x))\n",
      "x = F.relu(self.layer11(x))\n",
      "x = F.relu(self.layer12(x))\n",
      "x = F.relu(self.layer13(x))\n",
      "x = F.relu(self.layer14(x))\n",
      "x = F.relu(self.layer15(x))\n",
      "x = F.relu(self.layer16(x))\n",
      "x = F.relu(self.layer17(x))\n",
      "x = F.relu(self.layer18(x))\n",
      "x = F.relu(self.layer19(x))\n",
      "x = F.relu(self.layer20(x))\n",
      "x = F.relu(self.layer21(x))\n",
      "x = F.relu(self.layer22(x))\n",
      "x = F.relu(self.layer23(x))\n",
      "x = F.relu(self.layer24(x))\n",
      "x = F.relu(self.layer25(x))\n",
      "x = F.relu(self.layer26(x))\n",
      "x = F.relu(self.layer27(x))\n",
      "x = F.relu(self.layer28(x))\n",
      "x = F.relu(self.layer29(x))\n",
      "x = F.relu(self.layer30(x))\n",
      "x = F.relu(self.layer31(x))\n",
      "x = F.relu(self.layer32(x))\n",
      "x = F.relu(self.layer33(x))\n",
      "x = F.relu(self.layer34(x))\n",
      "x = F.relu(self.layer35(x))\n",
      "x = F.relu(self.layer36(x))\n",
      "x = F.relu(self.layer37(x))\n",
      "x = F.relu(self.layer38(x))\n",
      "x = F.relu(self.layer39(x))\n",
      "x = F.relu(self.layer40(x))\n",
      "x = F.relu(self.layer41(x))\n",
      "x = F.relu(self.layer42(x))\n",
      "x = F.relu(self.layer43(x))\n",
      "x = F.relu(self.layer44(x))\n",
      "x = F.relu(self.layer45(x))\n",
      "x = F.relu(self.layer46(x))\n",
      "x = F.relu(self.layer47(x))\n",
      "x = F.relu(self.layer48(x))\n",
      "x = F.relu(self.layer49(x))\n",
      "x = F.relu(self.layer50(x))\n"
     ]
    }
   ],
   "source": [
    "forward_printer(1, 51)"
   ]
  },
  {
   "cell_type": "markdown",
   "metadata": {},
   "source": [
    "Visualisation "
   ]
  },
  {
   "cell_type": "markdown",
   "metadata": {},
   "source": [
    "activation functions..."
   ]
  },
  {
   "cell_type": "markdown",
   "metadata": {},
   "source": [
    "time constrainte compared to the def function "
   ]
  },
  {
   "cell_type": "markdown",
   "metadata": {},
   "source": [
    "RNN ? "
   ]
  },
  {
   "cell_type": "markdown",
   "metadata": {},
   "source": []
  }
 ],
 "metadata": {
  "interpreter": {
   "hash": "ce11b6c1d88ff434cb68bdfbcb5fbcf9e789f665fdac246551c5012065e56663"
  },
  "kernelspec": {
   "display_name": "Python 3.9.9 64-bit ('zama-challenge-vMwrHpqs-py3.9': poetry)",
   "language": "python",
   "name": "python3"
  },
  "language_info": {
   "codemirror_mode": {
    "name": "ipython",
    "version": 3
   },
   "file_extension": ".py",
   "mimetype": "text/x-python",
   "name": "python",
   "nbconvert_exporter": "python",
   "pygments_lexer": "ipython3",
   "version": "3.7.9"
  },
  "orig_nbformat": 4
 },
 "nbformat": 4,
 "nbformat_minor": 2
}
